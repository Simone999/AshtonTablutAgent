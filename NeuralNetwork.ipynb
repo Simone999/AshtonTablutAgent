{
  "nbformat": 4,
  "nbformat_minor": 0,
  "metadata": {
    "colab": {
      "name": "Tablut Project",
      "provenance": [],
      "collapsed_sections": [],
      "include_colab_link": true
    },
    "kernelspec": {
      "name": "python3",
      "display_name": "Python 3"
    },
    "language_info": {
      "name": "python"
    },
    "accelerator": "GPU"
  },
  "cells": [
    {
      "cell_type": "markdown",
      "metadata": {
        "id": "view-in-github",
        "colab_type": "text"
      },
      "source": [
        "<a href=\"https://colab.research.google.com/github/Simone999/AshtonTablutAgent/blob/master/NeuralNetwork.ipynb\" target=\"_parent\"><img src=\"https://colab.research.google.com/assets/colab-badge.svg\" alt=\"Open In Colab\"/></a>"
      ]
    },
    {
      "cell_type": "markdown",
      "metadata": {
        "id": "D5C_NNRkUq1G"
      },
      "source": [
        "### Enable GPU"
      ]
    },
    {
      "cell_type": "code",
      "metadata": {
        "id": "5kuSkxdt5yqZ",
        "colab": {
          "base_uri": "https://localhost:8080/"
        },
        "outputId": "5b0f9205-c618-49d0-9796-6b817f683fdb"
      },
      "source": [
        "import tensorflow as tf\n",
        "\n",
        "device_name = tf.test.gpu_device_name()\n",
        "if device_name != '/device:GPU:0':\n",
        "  print(\n",
        "      '\\n\\nThis error most likely means that this notebook is not '\n",
        "      'configured to use a GPU.  Change this in Notebook Settings via the '\n",
        "      'command palette (cmd/ctrl-shift-P) or the Edit menu.\\n\\n')\n",
        "  raise SystemError('GPU device not found')"
      ],
      "execution_count": null,
      "outputs": [
        {
          "output_type": "execute_result",
          "data": {
            "text/plain": [
              "[PhysicalDevice(name='/physical_device:GPU:0', device_type='GPU')]"
            ]
          },
          "metadata": {},
          "execution_count": 5
        }
      ]
    },
    {
      "cell_type": "code",
      "metadata": {
        "id": "t90cl8ii3vdd",
        "colab": {
          "base_uri": "https://localhost:8080/"
        },
        "outputId": "12de447a-7bb8-4526-b9a3-1151c32b5519"
      },
      "source": [
        "from google.colab import drive\n",
        "drive.mount('/content/drive')"
      ],
      "execution_count": 6,
      "outputs": [
        {
          "output_type": "stream",
          "name": "stdout",
          "text": [
            "Mounted at /content/drive\n"
          ]
        }
      ]
    },
    {
      "cell_type": "markdown",
      "metadata": {
        "id": "3W4mw8LG6EgS"
      },
      "source": [
        "# Nuova sezione"
      ]
    },
    {
      "cell_type": "code",
      "metadata": {
        "id": "bciLpT5y32jU"
      },
      "source": [
        "# !unzip drive/My\\ Drive/simulazioni.zip -d simulations"
      ],
      "execution_count": null,
      "outputs": []
    },
    {
      "cell_type": "code",
      "metadata": {
        "id": "UJAFMiOk1Izq"
      },
      "source": [
        "import tensorflow as tf\n",
        "from tensorflow.keras.utils import to_categorical\n",
        "import pandas as pd\n",
        "import numpy as np\n",
        "from keras.models import Sequential\n",
        "from keras.layers import Dense\n",
        "from sklearn.preprocessing import OneHotEncoder\n",
        "import glob"
      ],
      "execution_count": 80,
      "outputs": []
    },
    {
      "cell_type": "code",
      "metadata": {
        "colab": {
          "base_uri": "https://localhost:8080/"
        },
        "id": "cVEXM3PW8afW",
        "outputId": "c538f3f2-4847-49fb-8649-bcaea34bf124"
      },
      "source": [
        "dir = 'simulations'\n",
        "files = glob.glob(f'{dir}/simulation_*.csv')\n",
        "len(files)"
      ],
      "execution_count": 73,
      "outputs": [
        {
          "output_type": "execute_result",
          "data": {
            "text/plain": [
              "1"
            ]
          },
          "metadata": {},
          "execution_count": 73
        }
      ]
    },
    {
      "cell_type": "code",
      "metadata": {
        "id": "xrfLBrmC-I04"
      },
      "source": [
        "pawns = {-1:0, 10:0, 0: 1/3, 1:2/3, 100: 1}\n",
        "\n",
        "def map(item, dict):\n",
        "  return dict[item]\n",
        "vmap = np.vectorize(map)\n",
        "\n",
        "def load_data(filename):\n",
        "  df = pd.read_csv(filename)\n",
        "  \n",
        "  df = df.drop('turns', axis=1)\n",
        "  boards=list(df['board'])\n",
        "\n",
        "  boards=[board.replace('[','').replace(']\\n','').replace(']]','').replace('1100','1 100').replace('-1100','-1 100').replace('0100','0 100')\n",
        "          for board in boards]\n",
        "  boards = [list(vmap(np.fromstring(board, sep=' ', dtype=int), pawns)) for board in boards]\n",
        "  boards = np.array(boards)\n",
        "\n",
        "  board_size = boards.shape[1]\n",
        "  \n",
        "  data = dict(zip(range(0, board_size), boards.T))\n",
        "  for column in df.drop('board', axis=1).columns:\n",
        "    data[column] = df[column].values\n",
        "\n",
        "  df = pd.DataFrame(data)\n",
        "  df['winner'] = df['winner'].map(outcomes)\n",
        "\n",
        "  return pd.DataFrame(data)\n",
        "\n",
        "def create_network(input_size, output_size):\n",
        "  model = Sequential()\n",
        "  model.add(Dense(12, input_dim=input_size, activation='relu'))\n",
        "  model.add(Dense(8, activation='relu'))\n",
        "  model.add(Dense(output_size, activation='softmax'))\n",
        "\n",
        "  model.compile(loss='categorical_crossentropy', optimizer='adam', metrics=['accuracy'])\n",
        "  \n",
        "  return model\n",
        "\n",
        "\n",
        "\n",
        "# df_black=df[df['turns']==0]\n",
        "# df_white=df[df['turns']==1]"
      ],
      "execution_count": 78,
      "outputs": []
    },
    {
      "cell_type": "markdown",
      "metadata": {
        "id": "mqIAI4TaVyjI"
      },
      "source": [
        "### Create Neural Network"
      ]
    },
    {
      "cell_type": "code",
      "metadata": {
        "id": "4JV59Z6GAQHy",
        "colab": {
          "base_uri": "https://localhost:8080/"
        },
        "outputId": "a7c8f21d-6b69-4e3c-a5a7-ed420fdd7c10"
      },
      "source": [
        "input_size = 81\n",
        "output_size = 3\n",
        "\n",
        "print('input_size', input_size)\n",
        "print('output_size', output_size)\n",
        "\n",
        "model = create_network(input_size, output_size)\n",
        "model.summary()"
      ],
      "execution_count": 89,
      "outputs": [
        {
          "output_type": "stream",
          "name": "stdout",
          "text": [
            "input_size 81\n",
            "output_size 3\n",
            "Model: \"sequential_19\"\n",
            "_________________________________________________________________\n",
            " Layer (type)                Output Shape              Param #   \n",
            "=================================================================\n",
            " dense_55 (Dense)            (None, 12)                984       \n",
            "                                                                 \n",
            " dense_56 (Dense)            (None, 8)                 104       \n",
            "                                                                 \n",
            " dense_57 (Dense)            (None, 3)                 27        \n",
            "                                                                 \n",
            "=================================================================\n",
            "Total params: 1,115\n",
            "Trainable params: 1,115\n",
            "Non-trainable params: 0\n",
            "_________________________________________________________________\n"
          ]
        }
      ]
    },
    {
      "cell_type": "markdown",
      "metadata": {
        "id": "XW2izVPhcdy_"
      },
      "source": [
        "### Load data"
      ]
    },
    {
      "cell_type": "code",
      "metadata": {
        "id": "X4-25O9CV3aA"
      },
      "source": [
        "# for filename in files:\n",
        "#   df = pf.read_csv(filename)\n",
        "#   train(df)\n",
        "\n",
        "filename = files[0]\n",
        "df = load_data(filename)\n",
        "df = df.sample(frac=1)\n",
        "\n",
        "X = df.drop('winner', axis=1)\n",
        "y = to_categorical(df['winner'], 3)\n",
        "\n",
        "print(X.shape)"
      ],
      "execution_count": null,
      "outputs": []
    },
    {
      "cell_type": "markdown",
      "metadata": {
        "id": "JbRa950-Wdsl"
      },
      "source": [
        "### Train"
      ]
    },
    {
      "cell_type": "code",
      "metadata": {
        "colab": {
          "base_uri": "https://localhost:8080/"
        },
        "id": "thyzG7dHPsIK",
        "outputId": "816b2b8e-b3c7-4672-a302-491826cb6d57"
      },
      "source": [
        "with tf.device('/device:GPU:0'):\n",
        "  callback = tf.keras.callbacks.EarlyStopping(monitor='loss', patience=10)\n",
        "  model.fit(X, y, epochs=150, batch_size=10, validation_split=0.2,callbacks=[callback])\n",
        "\n",
        "model.save('value_model')"
      ],
      "execution_count": 95,
      "outputs": [
        {
          "output_type": "stream",
          "name": "stdout",
          "text": [
            "Epoch 1/150\n",
            "3145/3145 [==============================] - 15s 5ms/step - loss: 0.7652 - accuracy: 0.6247 - val_loss: 0.8145 - val_accuracy: 0.6183\n",
            "Epoch 2/150\n",
            "3145/3145 [==============================] - 15s 5ms/step - loss: 0.7659 - accuracy: 0.6252 - val_loss: 0.8178 - val_accuracy: 0.6205\n",
            "Epoch 3/150\n",
            "3145/3145 [==============================] - 14s 4ms/step - loss: 0.7653 - accuracy: 0.6266 - val_loss: 0.8234 - val_accuracy: 0.5924\n",
            "Epoch 4/150\n",
            "3145/3145 [==============================] - 14s 5ms/step - loss: 0.7647 - accuracy: 0.6251 - val_loss: 0.8163 - val_accuracy: 0.6191\n",
            "Epoch 5/150\n",
            "3145/3145 [==============================] - 14s 5ms/step - loss: 0.7648 - accuracy: 0.6236 - val_loss: 0.8253 - val_accuracy: 0.5926\n",
            "Epoch 6/150\n",
            "3145/3145 [==============================] - 14s 5ms/step - loss: 0.7640 - accuracy: 0.6261 - val_loss: 0.8180 - val_accuracy: 0.6202\n",
            "Epoch 7/150\n",
            "3145/3145 [==============================] - 15s 5ms/step - loss: 0.7646 - accuracy: 0.6247 - val_loss: 0.8216 - val_accuracy: 0.6187\n",
            "Epoch 8/150\n",
            "3145/3145 [==============================] - 15s 5ms/step - loss: 0.7646 - accuracy: 0.6249 - val_loss: 0.8260 - val_accuracy: 0.6177\n",
            "Epoch 9/150\n",
            "3145/3145 [==============================] - 14s 5ms/step - loss: 0.7643 - accuracy: 0.6260 - val_loss: 0.8169 - val_accuracy: 0.6201\n",
            "Epoch 10/150\n",
            "3145/3145 [==============================] - 15s 5ms/step - loss: 0.7644 - accuracy: 0.6264 - val_loss: 0.8191 - val_accuracy: 0.6190\n",
            "Epoch 11/150\n",
            "3145/3145 [==============================] - 15s 5ms/step - loss: 0.7642 - accuracy: 0.6240 - val_loss: 0.8165 - val_accuracy: 0.6200\n",
            "Epoch 12/150\n",
            "3145/3145 [==============================] - 14s 5ms/step - loss: 0.7625 - accuracy: 0.6257 - val_loss: 0.8140 - val_accuracy: 0.6205\n",
            "Epoch 13/150\n",
            "3145/3145 [==============================] - 14s 5ms/step - loss: 0.7638 - accuracy: 0.6257 - val_loss: 0.8141 - val_accuracy: 0.6224\n",
            "Epoch 14/150\n",
            "3145/3145 [==============================] - 15s 5ms/step - loss: 0.7627 - accuracy: 0.6254 - val_loss: 0.8237 - val_accuracy: 0.6180\n",
            "Epoch 15/150\n",
            "3145/3145 [==============================] - 14s 5ms/step - loss: 0.7626 - accuracy: 0.6261 - val_loss: 0.8149 - val_accuracy: 0.6195\n",
            "Epoch 16/150\n",
            "3145/3145 [==============================] - 15s 5ms/step - loss: 0.7628 - accuracy: 0.6272 - val_loss: 0.8146 - val_accuracy: 0.6218\n",
            "Epoch 17/150\n",
            "3145/3145 [==============================] - 15s 5ms/step - loss: 0.7627 - accuracy: 0.6274 - val_loss: 0.8183 - val_accuracy: 0.6220\n",
            "Epoch 18/150\n",
            "3145/3145 [==============================] - 14s 5ms/step - loss: 0.7621 - accuracy: 0.6259 - val_loss: 0.8197 - val_accuracy: 0.5919\n",
            "Epoch 19/150\n",
            "3145/3145 [==============================] - 15s 5ms/step - loss: 0.7621 - accuracy: 0.6269 - val_loss: 0.8183 - val_accuracy: 0.6218\n",
            "Epoch 20/150\n",
            "3145/3145 [==============================] - 15s 5ms/step - loss: 0.7623 - accuracy: 0.6268 - val_loss: 0.8203 - val_accuracy: 0.6205\n",
            "Epoch 21/150\n",
            "3145/3145 [==============================] - 15s 5ms/step - loss: 0.7610 - accuracy: 0.6262 - val_loss: 0.8192 - val_accuracy: 0.6204\n",
            "Epoch 22/150\n",
            "3145/3145 [==============================] - 15s 5ms/step - loss: 0.7618 - accuracy: 0.6262 - val_loss: 0.8227 - val_accuracy: 0.5960\n",
            "Epoch 23/150\n",
            "3145/3145 [==============================] - 14s 5ms/step - loss: 0.7617 - accuracy: 0.6252 - val_loss: 0.8209 - val_accuracy: 0.6204\n",
            "Epoch 24/150\n",
            "3145/3145 [==============================] - 15s 5ms/step - loss: 0.7612 - accuracy: 0.6263 - val_loss: 0.8271 - val_accuracy: 0.6197\n",
            "Epoch 25/150\n",
            "3145/3145 [==============================] - 14s 5ms/step - loss: 0.7614 - accuracy: 0.6264 - val_loss: 0.8211 - val_accuracy: 0.6213\n",
            "Epoch 26/150\n",
            "3145/3145 [==============================] - 14s 4ms/step - loss: 0.7611 - accuracy: 0.6255 - val_loss: 0.8169 - val_accuracy: 0.6224\n",
            "Epoch 27/150\n",
            "3145/3145 [==============================] - 14s 4ms/step - loss: 0.7621 - accuracy: 0.6271 - val_loss: 0.8187 - val_accuracy: 0.6214\n",
            "Epoch 28/150\n",
            "3145/3145 [==============================] - 15s 5ms/step - loss: 0.7600 - accuracy: 0.6271 - val_loss: 0.8186 - val_accuracy: 0.6216\n",
            "Epoch 29/150\n",
            "3145/3145 [==============================] - 14s 4ms/step - loss: 0.7606 - accuracy: 0.6274 - val_loss: 0.8226 - val_accuracy: 0.6191\n",
            "Epoch 30/150\n",
            "3145/3145 [==============================] - 14s 4ms/step - loss: 0.7602 - accuracy: 0.6257 - val_loss: 0.8209 - val_accuracy: 0.6222\n",
            "Epoch 31/150\n",
            "3145/3145 [==============================] - 15s 5ms/step - loss: 0.7602 - accuracy: 0.6260 - val_loss: 0.8203 - val_accuracy: 0.6222\n",
            "Epoch 32/150\n",
            "3145/3145 [==============================] - 15s 5ms/step - loss: 0.7596 - accuracy: 0.6290 - val_loss: 0.8233 - val_accuracy: 0.6216\n",
            "Epoch 33/150\n",
            "3145/3145 [==============================] - 14s 4ms/step - loss: 0.7592 - accuracy: 0.6286 - val_loss: 0.8272 - val_accuracy: 0.6173\n",
            "Epoch 34/150\n",
            "3145/3145 [==============================] - 15s 5ms/step - loss: 0.7595 - accuracy: 0.6281 - val_loss: 0.8187 - val_accuracy: 0.6206\n",
            "Epoch 35/150\n",
            "3145/3145 [==============================] - 15s 5ms/step - loss: 0.7594 - accuracy: 0.6282 - val_loss: 0.8230 - val_accuracy: 0.6206\n",
            "Epoch 36/150\n",
            "3145/3145 [==============================] - 15s 5ms/step - loss: 0.7590 - accuracy: 0.6276 - val_loss: 0.8243 - val_accuracy: 0.6197\n",
            "Epoch 37/150\n",
            "3145/3145 [==============================] - 15s 5ms/step - loss: 0.7592 - accuracy: 0.6265 - val_loss: 0.8292 - val_accuracy: 0.6183\n",
            "Epoch 38/150\n",
            "3145/3145 [==============================] - 14s 5ms/step - loss: 0.7593 - accuracy: 0.6280 - val_loss: 0.8260 - val_accuracy: 0.6197\n",
            "Epoch 39/150\n",
            "3145/3145 [==============================] - 15s 5ms/step - loss: 0.7583 - accuracy: 0.6286 - val_loss: 0.8206 - val_accuracy: 0.6209\n",
            "Epoch 40/150\n",
            "3145/3145 [==============================] - 15s 5ms/step - loss: 0.7594 - accuracy: 0.6284 - val_loss: 0.8218 - val_accuracy: 0.6201\n",
            "Epoch 41/150\n",
            "3145/3145 [==============================] - 14s 5ms/step - loss: 0.7588 - accuracy: 0.6267 - val_loss: 0.8235 - val_accuracy: 0.6213\n",
            "Epoch 42/150\n",
            "3145/3145 [==============================] - 15s 5ms/step - loss: 0.7587 - accuracy: 0.6273 - val_loss: 0.8257 - val_accuracy: 0.6204\n",
            "Epoch 43/150\n",
            "3145/3145 [==============================] - 14s 5ms/step - loss: 0.7590 - accuracy: 0.6272 - val_loss: 0.8199 - val_accuracy: 0.6246\n",
            "Epoch 44/150\n",
            "3145/3145 [==============================] - 14s 5ms/step - loss: 0.7597 - accuracy: 0.6264 - val_loss: 0.8176 - val_accuracy: 0.6202\n",
            "Epoch 45/150\n",
            "3145/3145 [==============================] - 15s 5ms/step - loss: 0.7579 - accuracy: 0.6276 - val_loss: 0.8176 - val_accuracy: 0.6211\n",
            "Epoch 46/150\n",
            "3145/3145 [==============================] - 15s 5ms/step - loss: 0.7576 - accuracy: 0.6275 - val_loss: 0.8327 - val_accuracy: 0.6167\n",
            "Epoch 47/150\n",
            "3145/3145 [==============================] - 15s 5ms/step - loss: 0.7593 - accuracy: 0.6280 - val_loss: 0.8215 - val_accuracy: 0.6216\n",
            "Epoch 48/150\n",
            "3145/3145 [==============================] - 15s 5ms/step - loss: 0.7585 - accuracy: 0.6275 - val_loss: 0.8233 - val_accuracy: 0.6208\n",
            "Epoch 49/150\n",
            "3145/3145 [==============================] - 14s 5ms/step - loss: 0.7579 - accuracy: 0.6272 - val_loss: 0.8315 - val_accuracy: 0.6177\n",
            "Epoch 50/150\n",
            "3145/3145 [==============================] - 15s 5ms/step - loss: 0.7585 - accuracy: 0.6273 - val_loss: 0.8185 - val_accuracy: 0.6206\n",
            "Epoch 51/150\n",
            "3145/3145 [==============================] - 14s 5ms/step - loss: 0.7579 - accuracy: 0.6273 - val_loss: 0.8229 - val_accuracy: 0.6211\n",
            "Epoch 52/150\n",
            "3145/3145 [==============================] - 15s 5ms/step - loss: 0.7571 - accuracy: 0.6281 - val_loss: 0.8269 - val_accuracy: 0.6216\n",
            "Epoch 53/150\n",
            "3145/3145 [==============================] - 15s 5ms/step - loss: 0.7579 - accuracy: 0.6276 - val_loss: 0.8233 - val_accuracy: 0.6214\n",
            "Epoch 54/150\n",
            "3145/3145 [==============================] - 15s 5ms/step - loss: 0.7572 - accuracy: 0.6274 - val_loss: 0.8243 - val_accuracy: 0.5946\n",
            "Epoch 55/150\n",
            "3145/3145 [==============================] - 15s 5ms/step - loss: 0.7574 - accuracy: 0.6275 - val_loss: 0.8254 - val_accuracy: 0.5933\n",
            "Epoch 56/150\n",
            "3145/3145 [==============================] - 15s 5ms/step - loss: 0.7573 - accuracy: 0.6276 - val_loss: 0.8212 - val_accuracy: 0.6201\n",
            "Epoch 57/150\n",
            "3145/3145 [==============================] - 15s 5ms/step - loss: 0.7568 - accuracy: 0.6285 - val_loss: 0.8250 - val_accuracy: 0.6219\n",
            "Epoch 58/150\n",
            "3145/3145 [==============================] - 15s 5ms/step - loss: 0.7571 - accuracy: 0.6267 - val_loss: 0.8230 - val_accuracy: 0.6209\n",
            "Epoch 59/150\n",
            "3145/3145 [==============================] - 15s 5ms/step - loss: 0.7568 - accuracy: 0.6286 - val_loss: 0.8215 - val_accuracy: 0.6209\n",
            "Epoch 60/150\n",
            "3145/3145 [==============================] - 15s 5ms/step - loss: 0.7562 - accuracy: 0.6277 - val_loss: 0.8249 - val_accuracy: 0.6195\n",
            "Epoch 61/150\n",
            "3145/3145 [==============================] - 15s 5ms/step - loss: 0.7570 - accuracy: 0.6289 - val_loss: 0.8261 - val_accuracy: 0.6197\n",
            "Epoch 62/150\n",
            "3145/3145 [==============================] - 15s 5ms/step - loss: 0.7574 - accuracy: 0.6275 - val_loss: 0.8223 - val_accuracy: 0.5952\n",
            "Epoch 63/150\n",
            "3145/3145 [==============================] - 15s 5ms/step - loss: 0.7567 - accuracy: 0.6287 - val_loss: 0.8261 - val_accuracy: 0.6215\n",
            "Epoch 64/150\n",
            "3145/3145 [==============================] - 15s 5ms/step - loss: 0.7563 - accuracy: 0.6278 - val_loss: 0.8240 - val_accuracy: 0.6225\n",
            "Epoch 65/150\n",
            "3145/3145 [==============================] - 15s 5ms/step - loss: 0.7569 - accuracy: 0.6282 - val_loss: 0.8220 - val_accuracy: 0.6229\n",
            "Epoch 66/150\n",
            "3145/3145 [==============================] - 15s 5ms/step - loss: 0.7565 - accuracy: 0.6275 - val_loss: 0.8252 - val_accuracy: 0.6227\n",
            "Epoch 67/150\n",
            "3145/3145 [==============================] - 15s 5ms/step - loss: 0.7570 - accuracy: 0.6274 - val_loss: 0.8296 - val_accuracy: 0.6218\n",
            "Epoch 68/150\n",
            "3145/3145 [==============================] - 15s 5ms/step - loss: 0.7566 - accuracy: 0.6276 - val_loss: 0.8250 - val_accuracy: 0.6215\n",
            "Epoch 69/150\n",
            "3145/3145 [==============================] - 15s 5ms/step - loss: 0.7556 - accuracy: 0.6304 - val_loss: 0.8270 - val_accuracy: 0.6183\n",
            "Epoch 70/150\n",
            "3145/3145 [==============================] - 14s 5ms/step - loss: 0.7562 - accuracy: 0.6278 - val_loss: 0.8196 - val_accuracy: 0.6209\n",
            "Epoch 71/150\n",
            "3145/3145 [==============================] - 15s 5ms/step - loss: 0.7554 - accuracy: 0.6283 - val_loss: 0.8287 - val_accuracy: 0.6219\n",
            "Epoch 72/150\n",
            "3145/3145 [==============================] - 15s 5ms/step - loss: 0.7569 - accuracy: 0.6289 - val_loss: 0.8241 - val_accuracy: 0.6206\n",
            "Epoch 73/150\n",
            "3145/3145 [==============================] - 15s 5ms/step - loss: 0.7557 - accuracy: 0.6275 - val_loss: 0.8227 - val_accuracy: 0.6196\n",
            "Epoch 74/150\n",
            "3145/3145 [==============================] - 16s 5ms/step - loss: 0.7565 - accuracy: 0.6297 - val_loss: 0.8225 - val_accuracy: 0.6195\n",
            "Epoch 75/150\n",
            "3145/3145 [==============================] - 15s 5ms/step - loss: 0.7556 - accuracy: 0.6284 - val_loss: 0.8336 - val_accuracy: 0.6180\n",
            "Epoch 76/150\n",
            "3145/3145 [==============================] - 14s 5ms/step - loss: 0.7562 - accuracy: 0.6289 - val_loss: 0.8225 - val_accuracy: 0.6197\n",
            "Epoch 77/150\n",
            "3145/3145 [==============================] - 15s 5ms/step - loss: 0.7551 - accuracy: 0.6291 - val_loss: 0.8234 - val_accuracy: 0.6224\n",
            "Epoch 78/150\n",
            "3145/3145 [==============================] - 15s 5ms/step - loss: 0.7559 - accuracy: 0.6294 - val_loss: 0.8303 - val_accuracy: 0.6195\n",
            "Epoch 79/150\n",
            "3145/3145 [==============================] - 15s 5ms/step - loss: 0.7552 - accuracy: 0.6286 - val_loss: 0.8270 - val_accuracy: 0.6206\n",
            "Epoch 80/150\n",
            "3145/3145 [==============================] - 15s 5ms/step - loss: 0.7557 - accuracy: 0.6271 - val_loss: 0.8243 - val_accuracy: 0.6194\n",
            "Epoch 81/150\n",
            "3145/3145 [==============================] - 15s 5ms/step - loss: 0.7551 - accuracy: 0.6284 - val_loss: 0.8236 - val_accuracy: 0.6211\n",
            "Epoch 82/150\n",
            "3145/3145 [==============================] - 14s 5ms/step - loss: 0.7556 - accuracy: 0.6283 - val_loss: 0.8260 - val_accuracy: 0.6222\n",
            "Epoch 83/150\n",
            "3145/3145 [==============================] - 15s 5ms/step - loss: 0.7555 - accuracy: 0.6294 - val_loss: 0.8248 - val_accuracy: 0.6215\n",
            "Epoch 84/150\n",
            "3145/3145 [==============================] - 15s 5ms/step - loss: 0.7544 - accuracy: 0.6296 - val_loss: 0.8241 - val_accuracy: 0.6209\n",
            "Epoch 85/150\n",
            "3145/3145 [==============================] - 15s 5ms/step - loss: 0.7552 - accuracy: 0.6281 - val_loss: 0.8250 - val_accuracy: 0.6222\n",
            "Epoch 86/150\n",
            "3145/3145 [==============================] - 15s 5ms/step - loss: 0.7552 - accuracy: 0.6279 - val_loss: 0.8253 - val_accuracy: 0.6215\n",
            "Epoch 87/150\n",
            "3145/3145 [==============================] - 15s 5ms/step - loss: 0.7550 - accuracy: 0.6280 - val_loss: 0.8310 - val_accuracy: 0.6208\n",
            "Epoch 88/150\n",
            "3145/3145 [==============================] - 15s 5ms/step - loss: 0.7548 - accuracy: 0.6303 - val_loss: 0.8266 - val_accuracy: 0.6216\n",
            "Epoch 89/150\n",
            "3145/3145 [==============================] - 15s 5ms/step - loss: 0.7547 - accuracy: 0.6286 - val_loss: 0.8349 - val_accuracy: 0.6181\n",
            "Epoch 90/150\n",
            "3145/3145 [==============================] - 15s 5ms/step - loss: 0.7552 - accuracy: 0.6290 - val_loss: 0.8309 - val_accuracy: 0.6201\n",
            "Epoch 91/150\n",
            "3145/3145 [==============================] - 15s 5ms/step - loss: 0.7551 - accuracy: 0.6277 - val_loss: 0.8288 - val_accuracy: 0.6204\n",
            "Epoch 92/150\n",
            "3145/3145 [==============================] - 15s 5ms/step - loss: 0.7542 - accuracy: 0.6286 - val_loss: 0.8244 - val_accuracy: 0.6219\n",
            "Epoch 93/150\n",
            "3145/3145 [==============================] - 15s 5ms/step - loss: 0.7541 - accuracy: 0.6285 - val_loss: 0.8359 - val_accuracy: 0.6185\n",
            "Epoch 94/150\n",
            "3145/3145 [==============================] - 15s 5ms/step - loss: 0.7537 - accuracy: 0.6297 - val_loss: 0.8266 - val_accuracy: 0.6201\n",
            "Epoch 95/150\n",
            "3145/3145 [==============================] - 16s 5ms/step - loss: 0.7554 - accuracy: 0.6291 - val_loss: 0.8254 - val_accuracy: 0.6214\n",
            "Epoch 96/150\n",
            "3145/3145 [==============================] - 14s 5ms/step - loss: 0.7545 - accuracy: 0.6300 - val_loss: 0.8270 - val_accuracy: 0.6213\n",
            "Epoch 97/150\n",
            "3145/3145 [==============================] - 15s 5ms/step - loss: 0.7542 - accuracy: 0.6298 - val_loss: 0.8280 - val_accuracy: 0.6195\n",
            "Epoch 98/150\n",
            "3145/3145 [==============================] - 15s 5ms/step - loss: 0.7541 - accuracy: 0.6292 - val_loss: 0.8274 - val_accuracy: 0.6214\n",
            "Epoch 99/150\n",
            "3145/3145 [==============================] - 15s 5ms/step - loss: 0.7543 - accuracy: 0.6285 - val_loss: 0.8287 - val_accuracy: 0.6206\n",
            "Epoch 100/150\n",
            "3145/3145 [==============================] - 15s 5ms/step - loss: 0.7531 - accuracy: 0.6301 - val_loss: 0.8346 - val_accuracy: 0.6191\n",
            "Epoch 101/150\n",
            "3145/3145 [==============================] - 15s 5ms/step - loss: 0.7539 - accuracy: 0.6288 - val_loss: 0.8270 - val_accuracy: 0.6211\n",
            "Epoch 102/150\n",
            "3145/3145 [==============================] - 15s 5ms/step - loss: 0.7539 - accuracy: 0.6306 - val_loss: 0.8331 - val_accuracy: 0.5961\n",
            "Epoch 103/150\n",
            "3145/3145 [==============================] - 16s 5ms/step - loss: 0.7537 - accuracy: 0.6298 - val_loss: 0.8259 - val_accuracy: 0.6197\n",
            "Epoch 104/150\n",
            "3145/3145 [==============================] - 15s 5ms/step - loss: 0.7540 - accuracy: 0.6288 - val_loss: 0.8275 - val_accuracy: 0.6211\n",
            "Epoch 105/150\n",
            "3145/3145 [==============================] - 15s 5ms/step - loss: 0.7543 - accuracy: 0.6301 - val_loss: 0.8269 - val_accuracy: 0.6211\n",
            "Epoch 106/150\n",
            "3145/3145 [==============================] - 15s 5ms/step - loss: 0.7532 - accuracy: 0.6309 - val_loss: 0.8238 - val_accuracy: 0.6206\n",
            "Epoch 107/150\n",
            "3145/3145 [==============================] - 15s 5ms/step - loss: 0.7539 - accuracy: 0.6307 - val_loss: 0.8262 - val_accuracy: 0.6225\n",
            "Epoch 108/150\n",
            "3145/3145 [==============================] - 15s 5ms/step - loss: 0.7535 - accuracy: 0.6289 - val_loss: 0.8298 - val_accuracy: 0.6209\n",
            "Epoch 109/150\n",
            "3145/3145 [==============================] - 16s 5ms/step - loss: 0.7538 - accuracy: 0.6286 - val_loss: 0.8268 - val_accuracy: 0.6208\n",
            "Epoch 110/150\n",
            "3145/3145 [==============================] - 15s 5ms/step - loss: 0.7538 - accuracy: 0.6294 - val_loss: 0.8279 - val_accuracy: 0.6200\n",
            "INFO:tensorflow:Assets written to: value_model/assets\n"
          ]
        }
      ]
    },
    {
      "cell_type": "code",
      "metadata": {
        "id": "TxpbXq7IWhNp"
      },
      "source": [
        ""
      ],
      "execution_count": null,
      "outputs": []
    }
  ]
}